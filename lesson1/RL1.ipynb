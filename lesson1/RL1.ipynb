{
  "nbformat": 4,
  "nbformat_minor": 0,
  "metadata": {
    "colab": {
      "provenance": []
    },
    "kernelspec": {
      "name": "python3",
      "display_name": "Python 3"
    },
    "language_info": {
      "name": "python"
    }
  },
  "cells": [
    {
      "cell_type": "code",
      "source": [
        "import random"
      ],
      "metadata": {
        "id": "ztSwzEPT9zvc"
      },
      "execution_count": null,
      "outputs": []
    },
    {
      "cell_type": "code",
      "execution_count": null,
      "metadata": {
        "id": "pZpoMICd9dOn"
      },
      "outputs": [],
      "source": [
        "random.seed(42)"
      ]
    },
    {
      "cell_type": "code",
      "source": [
        "def generate_probabilities(num_faces=6):\n",
        "    cut_points = [random.random() for _ in range(num_faces - 1)]\n",
        "    cut_points.extend([0, 1])\n",
        "    cut_points.sort()\n",
        "    probabilities = [cut_points[i + 1] - cut_points[i] for i in range(len(cut_points) - 1)]\n",
        "    return probabilities\n",
        "\n",
        "def mystery_dice(probabilities):\n",
        "    # Generate a random float in the range [0, 1)\n",
        "    roll = random.random()\n",
        "\n",
        "    # Cumulative probability range\n",
        "    cumulative = 0\n",
        "    for i, p in enumerate(probabilities):\n",
        "        cumulative += p\n",
        "        if roll < cumulative:\n",
        "            return i + 1  # returning 'i + 1' to represent the dice face"
      ],
      "metadata": {
        "id": "oDzopgUB9sFL"
      },
      "execution_count": null,
      "outputs": []
    },
    {
      "cell_type": "code",
      "source": [
        "probabilities = generate_probabilities()"
      ],
      "metadata": {
        "id": "xoVNwcrx-JA5"
      },
      "execution_count": null,
      "outputs": []
    },
    {
      "cell_type": "code",
      "source": [
        "mystery_dice(probabilities)"
      ],
      "metadata": {
        "colab": {
          "base_uri": "https://localhost:8080/"
        },
        "id": "30XuT9fu_DKQ",
        "outputId": "bf5a43f8-ab32-4a82-ae47-cbd1067d1f45"
      },
      "execution_count": null,
      "outputs": [
        {
          "output_type": "execute_result",
          "data": {
            "text/plain": [
              "5"
            ]
          },
          "metadata": {},
          "execution_count": 7
        }
      ]
    },
    {
      "cell_type": "code",
      "source": [
        "experiments = 1000\n",
        "\n",
        "total = 0\n",
        "for _ in range(experiments):\n",
        "    total += mystery_dice(probabilities)\n",
        "\n",
        "print(total / experiments)"
      ],
      "metadata": {
        "colab": {
          "base_uri": "https://localhost:8080/"
        },
        "id": "WWAFq9kR_NbA",
        "outputId": "c9d67600-e6f4-4340-e0b7-3b43bbe51a67",
        "collapsed": true
      },
      "execution_count": null,
      "outputs": [
        {
          "output_type": "stream",
          "name": "stdout",
          "text": [
            "4.103\n"
          ]
        }
      ]
    },
    {
      "cell_type": "code",
      "source": [
        "expected_value = 0\n",
        "for i in range(6):\n",
        "    expected_value += probabilities[i] * (i + 1)\n",
        "\n",
        "print(expected_value)"
      ],
      "metadata": {
        "colab": {
          "base_uri": "https://localhost:8080/"
        },
        "id": "GObdO5NX_a1l",
        "outputId": "e1323e8e-7c48-4a13-9cad-e4f3c9c115f4",
        "collapsed": true
      },
      "execution_count": null,
      "outputs": [
        {
          "output_type": "stream",
          "name": "stdout",
          "text": [
            "4.100851175637494\n"
          ]
        }
      ]
    },
    {
      "cell_type": "code",
      "source": [],
      "metadata": {
        "id": "XK26GHYuAWlY"
      },
      "execution_count": null,
      "outputs": []
    }
  ]
}